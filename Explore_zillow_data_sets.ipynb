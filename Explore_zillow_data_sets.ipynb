{
  "nbformat": 4,
  "nbformat_minor": 0,
  "metadata": {
    "colab": {
      "name": "Explore_zillow_data_sets.ipynb",
      "version": "0.3.2",
      "provenance": [],
      "collapsed_sections": [
        "XenkSb41LNaA",
        "yBHz-tyCLSF2",
        "M4Tuu5GtZbxX"
      ],
      "include_colab_link": true
    },
    "kernelspec": {
      "name": "python3",
      "display_name": "Python 3"
    },
    "accelerator": "GPU"
  },
  "cells": [
    {
      "cell_type": "markdown",
      "metadata": {
        "id": "view-in-github",
        "colab_type": "text"
      },
      "source": [
        "<a href=\"https://colab.research.google.com/github/Ashwinks1995/hello/blob/master/Explore_zillow_data_sets.ipynb\" target=\"_parent\"><img src=\"https://colab.research.google.com/assets/colab-badge.svg\" alt=\"Open In Colab\"/></a>"
      ]
    },
    {
      "metadata": {
        "id": "lkNjrilMLIFy",
        "colab_type": "text"
      },
      "cell_type": "markdown",
      "source": [
        "# Explore Zillow"
      ]
    },
    {
      "metadata": {
        "id": "XenkSb41LNaA",
        "colab_type": "text"
      },
      "cell_type": "markdown",
      "source": [
        "## Ingest"
      ]
    },
    {
      "metadata": {
        "id": "azFBbTNEI71Y",
        "colab_type": "code",
        "outputId": "182f518c-06f8-49bf-e574-6e9a4f4af7ea",
        "colab": {
          "base_uri": "https://localhost:8080/",
          "height": 74
        }
      },
      "cell_type": "code",
      "source": [
        "import pandas as pd\n",
        "pd.set_option('display.float_format', lambda x: '%.3f' % x)\n",
        "import numpy as np\n",
        "import statsmodels.api as sm\n",
        "import statsmodels.formula.api as smf\n",
        "import matplotlib.pyplot as plt\n",
        "import seaborn as sns\n",
        "import seaborn as sns; sns.set(color_codes=True)\n",
        "from sklearn.cluster import KMeans\n",
        "color = sns.color_palette()\n",
        "from IPython.core.display import display, HTML\n",
        "display(HTML(\"<style>.container { width:100% !important; }</style>\"))\n",
        "%matplotlib inline"
      ],
      "execution_count": 0,
      "outputs": [
        {
          "output_type": "stream",
          "text": [
            "/usr/local/lib/python3.6/dist-packages/statsmodels/compat/pandas.py:56: FutureWarning: The pandas.core.datetools module is deprecated and will be removed in a future version. Please use the pandas.tseries module instead.\n",
            "  from pandas.core import datetools\n"
          ],
          "name": "stderr"
        },
        {
          "output_type": "display_data",
          "data": {
            "text/html": [
              "<style>.container { width:100% !important; }</style>"
            ],
            "text/plain": [
              "<IPython.core.display.HTML object>"
            ]
          },
          "metadata": {
            "tags": []
          }
        }
      ]
    },
    {
      "metadata": {
        "id": "pWFsalGNI71g",
        "colab_type": "code",
        "colab": {}
      },
      "cell_type": "code",
      "source": [
        "df = pd.read_csv(\"https://raw.githubusercontent.com/noahgift/real_estate_ml/master/data/Zip_Zhvi_SingleFamilyResidence_2018.csv\")\n"
      ],
      "execution_count": 0,
      "outputs": []
    },
    {
      "metadata": {
        "id": "yBHz-tyCLSF2",
        "colab_type": "text"
      },
      "cell_type": "markdown",
      "source": [
        "## EDA"
      ]
    },
    {
      "metadata": {
        "scrolled": true,
        "id": "dTlkq_MLI71k",
        "colab_type": "code",
        "outputId": "fb471cbd-9211-4a0e-b1b6-2d50b8692b85",
        "colab": {
          "base_uri": "https://localhost:8080/",
          "height": 350
        }
      },
      "cell_type": "code",
      "source": [
        "df.describe()"
      ],
      "execution_count": 0,
      "outputs": [
        {
          "output_type": "execute_result",
          "data": {
            "text/html": [
              "<div>\n",
              "<style scoped>\n",
              "    .dataframe tbody tr th:only-of-type {\n",
              "        vertical-align: middle;\n",
              "    }\n",
              "\n",
              "    .dataframe tbody tr th {\n",
              "        vertical-align: top;\n",
              "    }\n",
              "\n",
              "    .dataframe thead th {\n",
              "        text-align: right;\n",
              "    }\n",
              "</style>\n",
              "<table border=\"1\" class=\"dataframe\">\n",
              "  <thead>\n",
              "    <tr style=\"text-align: right;\">\n",
              "      <th></th>\n",
              "      <th>RegionID</th>\n",
              "      <th>RegionName</th>\n",
              "      <th>SizeRank</th>\n",
              "      <th>1996-04</th>\n",
              "      <th>1996-05</th>\n",
              "      <th>1996-06</th>\n",
              "      <th>1996-07</th>\n",
              "      <th>1996-08</th>\n",
              "      <th>1996-09</th>\n",
              "      <th>1996-10</th>\n",
              "      <th>...</th>\n",
              "      <th>2018-03</th>\n",
              "      <th>2018-04</th>\n",
              "      <th>2018-05</th>\n",
              "      <th>2018-06</th>\n",
              "      <th>2018-07</th>\n",
              "      <th>2018-08</th>\n",
              "      <th>2018-09</th>\n",
              "      <th>2018-10</th>\n",
              "      <th>2018-11</th>\n",
              "      <th>2018-12</th>\n",
              "    </tr>\n",
              "  </thead>\n",
              "  <tbody>\n",
              "    <tr>\n",
              "      <th>count</th>\n",
              "      <td>15508.000</td>\n",
              "      <td>15508.000</td>\n",
              "      <td>15508.000</td>\n",
              "      <td>14338.000</td>\n",
              "      <td>14338.000</td>\n",
              "      <td>14338.000</td>\n",
              "      <td>14338.000</td>\n",
              "      <td>14338.000</td>\n",
              "      <td>14338.000</td>\n",
              "      <td>14338.000</td>\n",
              "      <td>...</td>\n",
              "      <td>15508.000</td>\n",
              "      <td>15508.000</td>\n",
              "      <td>15508.000</td>\n",
              "      <td>15508.000</td>\n",
              "      <td>15508.000</td>\n",
              "      <td>15508.000</td>\n",
              "      <td>15508.000</td>\n",
              "      <td>15508.000</td>\n",
              "      <td>15508.000</td>\n",
              "      <td>15508.000</td>\n",
              "    </tr>\n",
              "    <tr>\n",
              "      <th>mean</th>\n",
              "      <td>80789.618</td>\n",
              "      <td>47683.566</td>\n",
              "      <td>7754.500</td>\n",
              "      <td>115889.866</td>\n",
              "      <td>116007.379</td>\n",
              "      <td>116123.051</td>\n",
              "      <td>116235.493</td>\n",
              "      <td>116358.920</td>\n",
              "      <td>116501.681</td>\n",
              "      <td>116689.315</td>\n",
              "      <td>...</td>\n",
              "      <td>279359.582</td>\n",
              "      <td>280672.685</td>\n",
              "      <td>282148.749</td>\n",
              "      <td>283446.447</td>\n",
              "      <td>284466.282</td>\n",
              "      <td>285500.200</td>\n",
              "      <td>286717.307</td>\n",
              "      <td>288029.320</td>\n",
              "      <td>289187.510</td>\n",
              "      <td>290106.635</td>\n",
              "    </tr>\n",
              "    <tr>\n",
              "      <th>std</th>\n",
              "      <td>31521.485</td>\n",
              "      <td>29008.034</td>\n",
              "      <td>4476.918</td>\n",
              "      <td>85115.825</td>\n",
              "      <td>85264.209</td>\n",
              "      <td>85413.118</td>\n",
              "      <td>85566.676</td>\n",
              "      <td>85744.243</td>\n",
              "      <td>85958.867</td>\n",
              "      <td>86230.630</td>\n",
              "      <td>...</td>\n",
              "      <td>361868.364</td>\n",
              "      <td>361360.576</td>\n",
              "      <td>363102.089</td>\n",
              "      <td>365301.815</td>\n",
              "      <td>366277.876</td>\n",
              "      <td>367095.613</td>\n",
              "      <td>366772.521</td>\n",
              "      <td>364624.171</td>\n",
              "      <td>361143.146</td>\n",
              "      <td>359132.687</td>\n",
              "    </tr>\n",
              "    <tr>\n",
              "      <th>min</th>\n",
              "      <td>58196.000</td>\n",
              "      <td>1001.000</td>\n",
              "      <td>1.000</td>\n",
              "      <td>11300.000</td>\n",
              "      <td>11500.000</td>\n",
              "      <td>11600.000</td>\n",
              "      <td>11800.000</td>\n",
              "      <td>11800.000</td>\n",
              "      <td>12000.000</td>\n",
              "      <td>12100.000</td>\n",
              "      <td>...</td>\n",
              "      <td>21700.000</td>\n",
              "      <td>21700.000</td>\n",
              "      <td>22100.000</td>\n",
              "      <td>22200.000</td>\n",
              "      <td>22000.000</td>\n",
              "      <td>21800.000</td>\n",
              "      <td>21700.000</td>\n",
              "      <td>21500.000</td>\n",
              "      <td>21600.000</td>\n",
              "      <td>21900.000</td>\n",
              "    </tr>\n",
              "    <tr>\n",
              "      <th>25%</th>\n",
              "      <td>67215.000</td>\n",
              "      <td>22199.000</td>\n",
              "      <td>3877.750</td>\n",
              "      <td>66700.000</td>\n",
              "      <td>66800.000</td>\n",
              "      <td>66925.000</td>\n",
              "      <td>67100.000</td>\n",
              "      <td>67200.000</td>\n",
              "      <td>67300.000</td>\n",
              "      <td>67500.000</td>\n",
              "      <td>...</td>\n",
              "      <td>128300.000</td>\n",
              "      <td>128800.000</td>\n",
              "      <td>129675.000</td>\n",
              "      <td>130300.000</td>\n",
              "      <td>131100.000</td>\n",
              "      <td>131900.000</td>\n",
              "      <td>132900.000</td>\n",
              "      <td>134000.000</td>\n",
              "      <td>135100.000</td>\n",
              "      <td>135600.000</td>\n",
              "    </tr>\n",
              "    <tr>\n",
              "      <th>50%</th>\n",
              "      <td>77886.500</td>\n",
              "      <td>45792.500</td>\n",
              "      <td>7754.500</td>\n",
              "      <td>96500.000</td>\n",
              "      <td>96700.000</td>\n",
              "      <td>96750.000</td>\n",
              "      <td>96900.000</td>\n",
              "      <td>96900.000</td>\n",
              "      <td>97000.000</td>\n",
              "      <td>97150.000</td>\n",
              "      <td>...</td>\n",
              "      <td>191100.000</td>\n",
              "      <td>192150.000</td>\n",
              "      <td>193400.000</td>\n",
              "      <td>194600.000</td>\n",
              "      <td>195700.000</td>\n",
              "      <td>196900.000</td>\n",
              "      <td>198100.000</td>\n",
              "      <td>199600.000</td>\n",
              "      <td>201100.000</td>\n",
              "      <td>202150.000</td>\n",
              "    </tr>\n",
              "    <tr>\n",
              "      <th>75%</th>\n",
              "      <td>90314.250</td>\n",
              "      <td>74010.250</td>\n",
              "      <td>11631.250</td>\n",
              "      <td>140500.000</td>\n",
              "      <td>140600.000</td>\n",
              "      <td>140600.000</td>\n",
              "      <td>140800.000</td>\n",
              "      <td>141000.000</td>\n",
              "      <td>141100.000</td>\n",
              "      <td>141300.000</td>\n",
              "      <td>...</td>\n",
              "      <td>310750.000</td>\n",
              "      <td>312300.000</td>\n",
              "      <td>314325.000</td>\n",
              "      <td>316100.000</td>\n",
              "      <td>317425.000</td>\n",
              "      <td>318325.000</td>\n",
              "      <td>319800.000</td>\n",
              "      <td>321200.000</td>\n",
              "      <td>322425.000</td>\n",
              "      <td>323900.000</td>\n",
              "    </tr>\n",
              "    <tr>\n",
              "      <th>max</th>\n",
              "      <td>753844.000</td>\n",
              "      <td>99901.000</td>\n",
              "      <td>15508.000</td>\n",
              "      <td>3676700.000</td>\n",
              "      <td>3704200.000</td>\n",
              "      <td>3729600.000</td>\n",
              "      <td>3754600.000</td>\n",
              "      <td>3781800.000</td>\n",
              "      <td>3813500.000</td>\n",
              "      <td>3849600.000</td>\n",
              "      <td>...</td>\n",
              "      <td>17724700.000</td>\n",
              "      <td>17408900.000</td>\n",
              "      <td>17450500.000</td>\n",
              "      <td>17722800.000</td>\n",
              "      <td>18006700.000</td>\n",
              "      <td>18273800.000</td>\n",
              "      <td>18331900.000</td>\n",
              "      <td>18131900.000</td>\n",
              "      <td>17594900.000</td>\n",
              "      <td>17119600.000</td>\n",
              "    </tr>\n",
              "  </tbody>\n",
              "</table>\n",
              "<p>8 rows × 276 columns</p>\n",
              "</div>"
            ],
            "text/plain": [
              "        RegionID  RegionName  SizeRank     1996-04     1996-05     1996-06  \\\n",
              "count  15508.000   15508.000 15508.000   14338.000   14338.000   14338.000   \n",
              "mean   80789.618   47683.566  7754.500  115889.866  116007.379  116123.051   \n",
              "std    31521.485   29008.034  4476.918   85115.825   85264.209   85413.118   \n",
              "min    58196.000    1001.000     1.000   11300.000   11500.000   11600.000   \n",
              "25%    67215.000   22199.000  3877.750   66700.000   66800.000   66925.000   \n",
              "50%    77886.500   45792.500  7754.500   96500.000   96700.000   96750.000   \n",
              "75%    90314.250   74010.250 11631.250  140500.000  140600.000  140600.000   \n",
              "max   753844.000   99901.000 15508.000 3676700.000 3704200.000 3729600.000   \n",
              "\n",
              "          1996-07     1996-08     1996-09     1996-10     ...       \\\n",
              "count   14338.000   14338.000   14338.000   14338.000     ...        \n",
              "mean   116235.493  116358.920  116501.681  116689.315     ...        \n",
              "std     85566.676   85744.243   85958.867   86230.630     ...        \n",
              "min     11800.000   11800.000   12000.000   12100.000     ...        \n",
              "25%     67100.000   67200.000   67300.000   67500.000     ...        \n",
              "50%     96900.000   96900.000   97000.000   97150.000     ...        \n",
              "75%    140800.000  141000.000  141100.000  141300.000     ...        \n",
              "max   3754600.000 3781800.000 3813500.000 3849600.000     ...        \n",
              "\n",
              "           2018-03      2018-04      2018-05      2018-06      2018-07  \\\n",
              "count    15508.000    15508.000    15508.000    15508.000    15508.000   \n",
              "mean    279359.582   280672.685   282148.749   283446.447   284466.282   \n",
              "std     361868.364   361360.576   363102.089   365301.815   366277.876   \n",
              "min      21700.000    21700.000    22100.000    22200.000    22000.000   \n",
              "25%     128300.000   128800.000   129675.000   130300.000   131100.000   \n",
              "50%     191100.000   192150.000   193400.000   194600.000   195700.000   \n",
              "75%     310750.000   312300.000   314325.000   316100.000   317425.000   \n",
              "max   17724700.000 17408900.000 17450500.000 17722800.000 18006700.000   \n",
              "\n",
              "           2018-08      2018-09      2018-10      2018-11      2018-12  \n",
              "count    15508.000    15508.000    15508.000    15508.000    15508.000  \n",
              "mean    285500.200   286717.307   288029.320   289187.510   290106.635  \n",
              "std     367095.613   366772.521   364624.171   361143.146   359132.687  \n",
              "min      21800.000    21700.000    21500.000    21600.000    21900.000  \n",
              "25%     131900.000   132900.000   134000.000   135100.000   135600.000  \n",
              "50%     196900.000   198100.000   199600.000   201100.000   202150.000  \n",
              "75%     318325.000   319800.000   321200.000   322425.000   323900.000  \n",
              "max   18273800.000 18331900.000 18131900.000 17594900.000 17119600.000  \n",
              "\n",
              "[8 rows x 276 columns]"
            ]
          },
          "metadata": {
            "tags": []
          },
          "execution_count": 13
        }
      ]
    },
    {
      "metadata": {
        "id": "sN0X6rcxI71q",
        "colab_type": "text"
      },
      "cell_type": "markdown",
      "source": [
        "#### Clean Up DataFrame\n",
        "Rename RegionName to ZipCode and Change Zip Code to String "
      ]
    },
    {
      "metadata": {
        "scrolled": false,
        "id": "v2wJ7XFuI71r",
        "colab_type": "code",
        "outputId": "b992c4ee-5e56-43c3-9db3-69a08cc87db7",
        "colab": {
          "base_uri": "https://localhost:8080/",
          "height": 446
        }
      },
      "cell_type": "code",
      "source": [
        "df.rename(columns={\"RegionName\":\"ZipCode\"}, inplace=True)\n",
        "df[\"ZipCode\"]=df[\"ZipCode\"].map(lambda x: \"{:.0f}\".format(x))\n",
        "df[\"RegionID\"]=df[\"RegionID\"].map(lambda x: \"{:.0f}\".format(x))\n",
        "df.head()"
      ],
      "execution_count": 0,
      "outputs": [
        {
          "output_type": "execute_result",
          "data": {
            "text/html": [
              "<div>\n",
              "<style scoped>\n",
              "    .dataframe tbody tr th:only-of-type {\n",
              "        vertical-align: middle;\n",
              "    }\n",
              "\n",
              "    .dataframe tbody tr th {\n",
              "        vertical-align: top;\n",
              "    }\n",
              "\n",
              "    .dataframe thead th {\n",
              "        text-align: right;\n",
              "    }\n",
              "</style>\n",
              "<table border=\"1\" class=\"dataframe\">\n",
              "  <thead>\n",
              "    <tr style=\"text-align: right;\">\n",
              "      <th></th>\n",
              "      <th>RegionID</th>\n",
              "      <th>ZipCode</th>\n",
              "      <th>City</th>\n",
              "      <th>State</th>\n",
              "      <th>Metro</th>\n",
              "      <th>CountyName</th>\n",
              "      <th>SizeRank</th>\n",
              "      <th>1996-04</th>\n",
              "      <th>1996-05</th>\n",
              "      <th>1996-06</th>\n",
              "      <th>...</th>\n",
              "      <th>2018-03</th>\n",
              "      <th>2018-04</th>\n",
              "      <th>2018-05</th>\n",
              "      <th>2018-06</th>\n",
              "      <th>2018-07</th>\n",
              "      <th>2018-08</th>\n",
              "      <th>2018-09</th>\n",
              "      <th>2018-10</th>\n",
              "      <th>2018-11</th>\n",
              "      <th>2018-12</th>\n",
              "    </tr>\n",
              "  </thead>\n",
              "  <tbody>\n",
              "    <tr>\n",
              "      <th>0</th>\n",
              "      <td>84654</td>\n",
              "      <td>60657</td>\n",
              "      <td>Chicago</td>\n",
              "      <td>IL</td>\n",
              "      <td>Chicago-Naperville-Elgin</td>\n",
              "      <td>Cook County</td>\n",
              "      <td>1</td>\n",
              "      <td>334200.000</td>\n",
              "      <td>335400.000</td>\n",
              "      <td>336500.000</td>\n",
              "      <td>...</td>\n",
              "      <td>1037400</td>\n",
              "      <td>1038700</td>\n",
              "      <td>1041500</td>\n",
              "      <td>1042800</td>\n",
              "      <td>1042900</td>\n",
              "      <td>1044400</td>\n",
              "      <td>1047800</td>\n",
              "      <td>1049700</td>\n",
              "      <td>1048300</td>\n",
              "      <td>1047900</td>\n",
              "    </tr>\n",
              "    <tr>\n",
              "      <th>1</th>\n",
              "      <td>91982</td>\n",
              "      <td>77494</td>\n",
              "      <td>Katy</td>\n",
              "      <td>TX</td>\n",
              "      <td>Houston-The Woodlands-Sugar Land</td>\n",
              "      <td>Harris County</td>\n",
              "      <td>2</td>\n",
              "      <td>210400.000</td>\n",
              "      <td>212200.000</td>\n",
              "      <td>212200.000</td>\n",
              "      <td>...</td>\n",
              "      <td>330400</td>\n",
              "      <td>332700</td>\n",
              "      <td>334500</td>\n",
              "      <td>335900</td>\n",
              "      <td>337000</td>\n",
              "      <td>338300</td>\n",
              "      <td>338400</td>\n",
              "      <td>336900</td>\n",
              "      <td>336000</td>\n",
              "      <td>336500</td>\n",
              "    </tr>\n",
              "    <tr>\n",
              "      <th>2</th>\n",
              "      <td>84616</td>\n",
              "      <td>60614</td>\n",
              "      <td>Chicago</td>\n",
              "      <td>IL</td>\n",
              "      <td>Chicago-Naperville-Elgin</td>\n",
              "      <td>Cook County</td>\n",
              "      <td>3</td>\n",
              "      <td>498100.000</td>\n",
              "      <td>500900.000</td>\n",
              "      <td>503100.000</td>\n",
              "      <td>...</td>\n",
              "      <td>1317900</td>\n",
              "      <td>1321100</td>\n",
              "      <td>1325300</td>\n",
              "      <td>1323800</td>\n",
              "      <td>1321200</td>\n",
              "      <td>1320700</td>\n",
              "      <td>1319500</td>\n",
              "      <td>1318800</td>\n",
              "      <td>1319700</td>\n",
              "      <td>1323300</td>\n",
              "    </tr>\n",
              "    <tr>\n",
              "      <th>3</th>\n",
              "      <td>93144</td>\n",
              "      <td>79936</td>\n",
              "      <td>El Paso</td>\n",
              "      <td>TX</td>\n",
              "      <td>El Paso</td>\n",
              "      <td>El Paso County</td>\n",
              "      <td>4</td>\n",
              "      <td>77300.000</td>\n",
              "      <td>77300.000</td>\n",
              "      <td>77300.000</td>\n",
              "      <td>...</td>\n",
              "      <td>120800</td>\n",
              "      <td>121300</td>\n",
              "      <td>122200</td>\n",
              "      <td>123000</td>\n",
              "      <td>123600</td>\n",
              "      <td>124500</td>\n",
              "      <td>125600</td>\n",
              "      <td>126300</td>\n",
              "      <td>126800</td>\n",
              "      <td>127400</td>\n",
              "    </tr>\n",
              "    <tr>\n",
              "      <th>4</th>\n",
              "      <td>91940</td>\n",
              "      <td>77449</td>\n",
              "      <td>Katy</td>\n",
              "      <td>TX</td>\n",
              "      <td>Houston-The Woodlands-Sugar Land</td>\n",
              "      <td>Harris County</td>\n",
              "      <td>5</td>\n",
              "      <td>95400.000</td>\n",
              "      <td>95600.000</td>\n",
              "      <td>95800.000</td>\n",
              "      <td>...</td>\n",
              "      <td>175500</td>\n",
              "      <td>176400</td>\n",
              "      <td>176900</td>\n",
              "      <td>176900</td>\n",
              "      <td>177300</td>\n",
              "      <td>178000</td>\n",
              "      <td>178500</td>\n",
              "      <td>179300</td>\n",
              "      <td>180200</td>\n",
              "      <td>180700</td>\n",
              "    </tr>\n",
              "  </tbody>\n",
              "</table>\n",
              "<p>5 rows × 280 columns</p>\n",
              "</div>"
            ],
            "text/plain": [
              "  RegionID ZipCode     City State                             Metro  \\\n",
              "0    84654   60657  Chicago    IL          Chicago-Naperville-Elgin   \n",
              "1    91982   77494     Katy    TX  Houston-The Woodlands-Sugar Land   \n",
              "2    84616   60614  Chicago    IL          Chicago-Naperville-Elgin   \n",
              "3    93144   79936  El Paso    TX                           El Paso   \n",
              "4    91940   77449     Katy    TX  Houston-The Woodlands-Sugar Land   \n",
              "\n",
              "       CountyName  SizeRank    1996-04    1996-05    1996-06   ...     \\\n",
              "0     Cook County         1 334200.000 335400.000 336500.000   ...      \n",
              "1   Harris County         2 210400.000 212200.000 212200.000   ...      \n",
              "2     Cook County         3 498100.000 500900.000 503100.000   ...      \n",
              "3  El Paso County         4  77300.000  77300.000  77300.000   ...      \n",
              "4   Harris County         5  95400.000  95600.000  95800.000   ...      \n",
              "\n",
              "   2018-03  2018-04  2018-05  2018-06  2018-07  2018-08  2018-09  2018-10  \\\n",
              "0  1037400  1038700  1041500  1042800  1042900  1044400  1047800  1049700   \n",
              "1   330400   332700   334500   335900   337000   338300   338400   336900   \n",
              "2  1317900  1321100  1325300  1323800  1321200  1320700  1319500  1318800   \n",
              "3   120800   121300   122200   123000   123600   124500   125600   126300   \n",
              "4   175500   176400   176900   176900   177300   178000   178500   179300   \n",
              "\n",
              "   2018-11  2018-12  \n",
              "0  1048300  1047900  \n",
              "1   336000   336500  \n",
              "2  1319700  1323300  \n",
              "3   126800   127400  \n",
              "4   180200   180700  \n",
              "\n",
              "[5 rows x 280 columns]"
            ]
          },
          "metadata": {
            "tags": []
          },
          "execution_count": 14
        }
      ]
    },
    {
      "metadata": {
        "id": "RqzPnIu5I71t",
        "colab_type": "code",
        "colab": {}
      },
      "cell_type": "code",
      "source": [
        "median_prices = df.median()\n",
        "#sf_prices = df[\"City\"] == \"San Francisco\".median()\n"
      ],
      "execution_count": 0,
      "outputs": []
    },
    {
      "metadata": {
        "id": "nDb2Biu7DtZ8",
        "colab_type": "code",
        "colab": {}
      },
      "cell_type": "code",
      "source": [
        "df.isna().values.any()\n",
        "df = df = df.dropna()"
      ],
      "execution_count": 0,
      "outputs": []
    },
    {
      "metadata": {
        "id": "G5G35xmKC5m4",
        "colab_type": "code",
        "outputId": "205892d0-1ba8-4737-bc14-0025a45b0de9",
        "colab": {
          "base_uri": "https://localhost:8080/",
          "height": 335
        }
      },
      "cell_type": "code",
      "source": [
        "\n",
        "\n",
        "sns.countplot( x = \"City\",data = df)"
      ],
      "execution_count": 0,
      "outputs": [
        {
          "output_type": "stream",
          "text": [
            "/usr/local/lib/python3.6/dist-packages/seaborn/categorical.py:1428: FutureWarning: remove_na is deprecated and is a private function. Do not use.\n",
            "  stat_data = remove_na(group_data)\n"
          ],
          "name": "stderr"
        },
        {
          "output_type": "execute_result",
          "data": {
            "text/plain": [
              "<matplotlib.axes._subplots.AxesSubplot at 0x7f8f2cc8ce10>"
            ]
          },
          "metadata": {
            "tags": []
          },
          "execution_count": 9
        },
        {
          "output_type": "display_data",
          "data": {
            "image/png": "[encoded data removed]",
            "text/plain": [
              "<Figure size 432x288 with 1 Axes>"
            ]
          },
          "metadata": {
            "tags": []
          }
        }
      ]
    },
    {
      "metadata": {
        "id": "n-yc_a94e3iE",
        "colab_type": "code",
        "outputId": "97a7037c-f0e0-4adb-f6bc-0102deffc8b4",
        "colab": {
          "base_uri": "https://localhost:8080/",
          "height": 166
        }
      },
      "cell_type": "code",
      "source": [
        "abc_transpose.index = pd.to_datetime(abc_transpose.index)\n",
        "abc_transpose.index\n"
      ],
      "execution_count": 0,
      "outputs": [
        {
          "output_type": "execute_result",
          "data": {
            "text/plain": [
              "DatetimeIndex(['1996-04-01', '1996-05-01', '1996-06-01', '1996-07-01',\n",
              "               '1996-08-01', '1996-09-01', '1996-10-01', '1996-11-01',\n",
              "               '1996-12-01', '1997-01-01',\n",
              "               ...\n",
              "               '2018-03-01', '2018-04-01', '2018-05-01', '2018-06-01',\n",
              "               '2018-07-01', '2018-08-01', '2018-09-01', '2018-10-01',\n",
              "               '2018-11-01', '2018-12-01'],\n",
              "              dtype='datetime64[ns]', length=273, freq=None)"
            ]
          },
          "metadata": {
            "tags": []
          },
          "execution_count": 19
        }
      ]
    },
    {
      "metadata": {
        "id": "LEFeSroAez93",
        "colab_type": "code",
        "colab": {}
      },
      "cell_type": "code",
      "source": [
        "data = []\n",
        "city = df.City\n",
        "df['City'].value_counts()\n",
        "abc = df.groupby('City').mean()\n",
        "#abc = \n",
        "abc = abc.drop(['SizeRank'], axis =1)\n",
        "abc_transpose = abc.transpose()\n",
        "test = abc_transpose.loc[:,['Abbeville','San Francisco', 'New York', 'Seattle', 'Dallas', 'Austin']]\n"
      ],
      "execution_count": 0,
      "outputs": []
    },
    {
      "metadata": {
        "id": "6wzVU-w4guNy",
        "colab_type": "code",
        "outputId": "dbc0d753-8d29-48e1-d3e9-a618a6eeec99",
        "colab": {
          "base_uri": "https://localhost:8080/",
          "height": 129
        }
      },
      "cell_type": "code",
      "source": [
        "y = test['San Francisco']\n",
        "y[:'2007']\n",
        "y.tail(5)"
      ],
      "execution_count": 0,
      "outputs": [
        {
          "output_type": "execute_result",
          "data": {
            "text/plain": [
              "2018-08   2204926.316\n",
              "2018-09   2208315.789\n",
              "2018-10   2214663.158\n",
              "2018-11   2211621.053\n",
              "2018-12   2209568.421\n",
              "Name: San Francisco, dtype: float64"
            ]
          },
          "metadata": {
            "tags": []
          },
          "execution_count": 20
        }
      ]
    },
    {
      "metadata": {
        "id": "L0dDYJOQGod_",
        "colab_type": "code",
        "outputId": "f5840cff-78df-45a0-96c8-f73fc260d40c",
        "colab": {
          "base_uri": "https://localhost:8080/",
          "height": 387
        }
      },
      "cell_type": "code",
      "source": [
        "\n",
        "\n",
        "test.plot(figsize=(15, 6))\n",
        "plt.xlabel('Year', fontsize=20);\n",
        "plt.show()\n"
      ],
      "execution_count": 0,
      "outputs": [
        {
          "output_type": "display_data",
          "data": {
            "image/png": "[encoded data removed]",
            "text/plain": [
              "<Figure size 1080x432 with 1 Axes>"
            ]
          },
          "metadata": {
            "tags": []
          }
        }
      ]
    },
    {
      "metadata": {
        "id": "DASj6AzAiZkw",
        "colab_type": "code",
        "outputId": "1f2ad977-458b-488e-e038-067ec5330338",
        "colab": {
          "base_uri": "https://localhost:8080/",
          "height": 166
        }
      },
      "cell_type": "code",
      "source": [
        "test.index = pd.to_datetime(test.index)\n",
        "test.index"
      ],
      "execution_count": 0,
      "outputs": [
        {
          "output_type": "execute_result",
          "data": {
            "text/plain": [
              "DatetimeIndex(['1996-04-01', '1996-05-01', '1996-06-01', '1996-07-01',\n",
              "               '1996-08-01', '1996-09-01', '1996-10-01', '1996-11-01',\n",
              "               '1996-12-01', '1997-01-01',\n",
              "               ...\n",
              "               '2018-03-01', '2018-04-01', '2018-05-01', '2018-06-01',\n",
              "               '2018-07-01', '2018-08-01', '2018-09-01', '2018-10-01',\n",
              "               '2018-11-01', '2018-12-01'],\n",
              "              dtype='datetime64[ns]', length=273, freq=None)"
            ]
          },
          "metadata": {
            "tags": []
          },
          "execution_count": 22
        }
      ]
    },
    {
      "metadata": {
        "id": "Oo3o3dXcKYbf",
        "colab_type": "code",
        "outputId": "3b11fc1f-dc4e-4616-fd7c-a55bcc6a79f5",
        "colab": {
          "base_uri": "https://localhost:8080/",
          "height": 166
        }
      },
      "cell_type": "code",
      "source": [
        "import statsmodels.api as sm\n",
        "from pylab import rcParams\n",
        "rcParams['figure.figsize'] = 14, 8\n",
        "\n",
        "test.index = pd.to_datetime(abc_transpose.index)\n",
        "abc_transpose.index"
      ],
      "execution_count": 0,
      "outputs": [
        {
          "output_type": "execute_result",
          "data": {
            "text/plain": [
              "DatetimeIndex(['1996-04-01', '1996-05-01', '1996-06-01', '1996-07-01',\n",
              "               '1996-08-01', '1996-09-01', '1996-10-01', '1996-11-01',\n",
              "               '1996-12-01', '1997-01-01',\n",
              "               ...\n",
              "               '2018-03-01', '2018-04-01', '2018-05-01', '2018-06-01',\n",
              "               '2018-07-01', '2018-08-01', '2018-09-01', '2018-10-01',\n",
              "               '2018-11-01', '2018-12-01'],\n",
              "              dtype='datetime64[ns]', length=273, freq=None)"
            ]
          },
          "metadata": {
            "tags": []
          },
          "execution_count": 23
        }
      ]
    },
    {
      "metadata": {
        "id": "0BBnrz2ehZJT",
        "colab_type": "code",
        "outputId": "fd8647b4-7b06-49ab-8544-526c03a386c1",
        "colab": {
          "base_uri": "https://localhost:8080/",
          "height": 585
        }
      },
      "cell_type": "code",
      "source": [
        "#decomposition = sm.tsa.seasonal_decompose(y, model='additive')\n",
        "t = sm.tsa.seasonal_decompose(test.Seattle)\n",
        "fig = t.plot()\n",
        "plt.show()"
      ],
      "execution_count": 0,
      "outputs": [
        {
          "output_type": "display_data",
          "data": {
            "image/png": "[encoded data removed]",
            "text/plain": [
              "<Figure size 1008x576 with 4 Axes>"
            ]
          },
          "metadata": {
            "tags": []
          }
        }
      ]
    },
    {
      "metadata": {
        "id": "TgZF3EZuHbmr",
        "colab_type": "text"
      },
      "cell_type": "markdown",
      "source": [
        "##Modeling \n"
      ]
    },
    {
      "metadata": {
        "id": "djiimjgCjdvq",
        "colab_type": "code",
        "outputId": "233b7490-47f0-4f3f-e99b-3e716a83753a",
        "colab": {
          "base_uri": "https://localhost:8080/",
          "height": 110
        }
      },
      "cell_type": "code",
      "source": [
        "import itertools \n",
        "p = d = q = range(0, 2)\n",
        "pdq = list(itertools.product(p, d, q))\n",
        "seasonal_pdq = [(x[0], x[1], x[2], 12) for x in list(itertools.product(p, d, q))]\n",
        "\n",
        "print('Examples of parameter combinations for Seasonal ARIMA...')\n",
        "print('SARIMAX: {} x {}'.format(pdq[1], seasonal_pdq[1]))\n",
        "print('SARIMAX: {} x {}'.format(pdq[1], seasonal_pdq[2]))\n",
        "print('SARIMAX: {} x {}'.format(pdq[2], seasonal_pdq[3]))\n",
        "print('SARIMAX: {} x {}'.format(pdq[2], seasonal_pdq[4]))\n"
      ],
      "execution_count": 0,
      "outputs": [
        {
          "output_type": "stream",
          "text": [
            "Examples of parameter combinations for Seasonal ARIMA...\n",
            "SARIMAX: (0, 0, 1) x (0, 0, 1, 12)\n",
            "SARIMAX: (0, 0, 1) x (0, 1, 0, 12)\n",
            "SARIMAX: (0, 1, 0) x (0, 1, 1, 12)\n",
            "SARIMAX: (0, 1, 0) x (1, 0, 0, 12)\n"
          ],
          "name": "stdout"
        }
      ]
    },
    {
      "metadata": {
        "id": "Pg6dTZEQjtKr",
        "colab_type": "code",
        "outputId": "6265d50c-637a-4fe5-f70e-57839b9aa5fa",
        "colab": {
          "base_uri": "https://localhost:8080/",
          "height": 1270
        }
      },
      "cell_type": "code",
      "source": [
        "for param in pdq:\n",
        "    for param_seasonal in seasonal_pdq:\n",
        "        try:\n",
        "            mod = sm.tsa.statespace.SARIMAX(y,\n",
        "                                            order=param,\n",
        "                                            seasonal_order=param_seasonal,\n",
        "                                            enforce_stationarity=False,\n",
        "                                            enforce_invertibility=False)\n",
        "            results = mod.fit()\n",
        "            print('ARIMA{}x{}12 - AIC:{}'.format(param, param_seasonal, results.aic))\n",
        "        except:\n",
        "            continue"
      ],
      "execution_count": 0,
      "outputs": [
        {
          "output_type": "stream",
          "text": [
            "ARIMA(0, 0, 0)x(0, 0, 1, 12)12 - AIC:7896.249329144301\n",
            "ARIMA(0, 0, 0)x(0, 1, 1, 12)12 - AIC:6521.194852224796\n",
            "ARIMA(0, 0, 0)x(1, 0, 0, 12)12 - AIC:6703.002331470938\n",
            "ARIMA(0, 0, 0)x(1, 0, 1, 12)12 - AIC:6640.152778978814\n",
            "ARIMA(0, 0, 0)x(1, 1, 0, 12)12 - AIC:6349.770980843233\n",
            "ARIMA(0, 0, 0)x(1, 1, 1, 12)12 - AIC:8719.733113432274\n",
            "ARIMA(0, 0, 1)x(0, 0, 0, 12)12 - AIC:8196.944972860767\n",
            "ARIMA(0, 0, 1)x(0, 0, 1, 12)12 - AIC:7790.243121242092\n",
            "ARIMA(0, 0, 1)x(0, 1, 0, 12)12 - AIC:6932.29421968578\n",
            "ARIMA(0, 0, 1)x(0, 1, 1, 12)12 - AIC:850161.0565796108\n",
            "ARIMA(0, 0, 1)x(1, 0, 0, 12)12 - AIC:8433.036208634374\n",
            "ARIMA(0, 0, 1)x(1, 0, 1, 12)12 - AIC:8268.323636700827\n",
            "ARIMA(0, 0, 1)x(1, 1, 0, 12)12 - AIC:6323.012134434994\n",
            "ARIMA(0, 0, 1)x(1, 1, 1, 12)12 - AIC:8526.395909900042\n",
            "ARIMA(0, 1, 0)x(0, 0, 1, 12)12 - AIC:5503.149643854093\n",
            "ARIMA(0, 1, 0)x(0, 1, 1, 12)12 - AIC:5244.0470845361215\n",
            "ARIMA(0, 1, 0)x(1, 0, 0, 12)12 - AIC:5479.172272494029\n",
            "ARIMA(0, 1, 0)x(1, 0, 1, 12)12 - AIC:5459.692081930101\n",
            "ARIMA(0, 1, 0)x(1, 1, 0, 12)12 - AIC:5262.728429825624\n",
            "ARIMA(0, 1, 0)x(1, 1, 1, 12)12 - AIC:5241.923061287063\n",
            "ARIMA(0, 1, 1)x(0, 0, 0, 12)12 - AIC:5571.238499038385\n",
            "ARIMA(0, 1, 1)x(0, 0, 1, 12)12 - AIC:5306.758676630336\n",
            "ARIMA(0, 1, 1)x(0, 1, 0, 12)12 - AIC:5329.670961853364\n",
            "ARIMA(0, 1, 1)x(0, 1, 1, 12)12 - AIC:5018.278552670047\n",
            "ARIMA(0, 1, 1)x(1, 0, 0, 12)12 - AIC:5369.241311289592\n",
            "ARIMA(0, 1, 1)x(1, 0, 1, 12)12 - AIC:5308.711598247957\n",
            "ARIMA(0, 1, 1)x(1, 1, 0, 12)12 - AIC:5097.722002857171\n",
            "ARIMA(0, 1, 1)x(1, 1, 1, 12)12 - AIC:5019.199286680938\n",
            "ARIMA(1, 0, 0)x(0, 0, 0, 12)12 - AIC:5707.855358192373\n",
            "ARIMA(1, 0, 0)x(0, 0, 1, 12)12 - AIC:5490.749672296277\n",
            "ARIMA(1, 0, 0)x(0, 1, 0, 12)12 - AIC:5530.881593872369\n"
          ],
          "name": "stdout"
        },
        {
          "output_type": "stream",
          "text": [
            "/usr/local/lib/python3.6/dist-packages/statsmodels/base/model.py:496: ConvergenceWarning: Maximum Likelihood optimization failed to converge. Check mle_retvals\n",
            "  \"Check mle_retvals\", ConvergenceWarning)\n"
          ],
          "name": "stderr"
        },
        {
          "output_type": "stream",
          "text": [
            "ARIMA(1, 0, 0)x(0, 1, 1, 12)12 - AIC:5289.275589941884\n",
            "ARIMA(1, 0, 0)x(1, 0, 0, 12)12 - AIC:5437.770522312743\n",
            "ARIMA(1, 0, 0)x(1, 0, 1, 12)12 - AIC:5441.694627771689\n",
            "ARIMA(1, 0, 0)x(1, 1, 0, 12)12 - AIC:5265.062766323157\n"
          ],
          "name": "stdout"
        },
        {
          "output_type": "stream",
          "text": [
            "/usr/local/lib/python3.6/dist-packages/statsmodels/base/model.py:496: ConvergenceWarning: Maximum Likelihood optimization failed to converge. Check mle_retvals\n",
            "  \"Check mle_retvals\", ConvergenceWarning)\n"
          ],
          "name": "stderr"
        },
        {
          "output_type": "stream",
          "text": [
            "ARIMA(1, 0, 0)x(1, 1, 1, 12)12 - AIC:5309.014426400846\n",
            "ARIMA(1, 0, 1)x(0, 0, 0, 12)12 - AIC:5454.528562347763\n",
            "ARIMA(1, 0, 1)x(0, 0, 1, 12)12 - AIC:5208.693663409669\n",
            "ARIMA(1, 0, 1)x(0, 1, 0, 12)12 - AIC:5596.81222887917\n"
          ],
          "name": "stdout"
        },
        {
          "output_type": "stream",
          "text": [
            "/usr/local/lib/python3.6/dist-packages/statsmodels/base/model.py:496: ConvergenceWarning: Maximum Likelihood optimization failed to converge. Check mle_retvals\n",
            "  \"Check mle_retvals\", ConvergenceWarning)\n"
          ],
          "name": "stderr"
        },
        {
          "output_type": "stream",
          "text": [
            "ARIMA(1, 0, 1)x(0, 1, 1, 12)12 - AIC:7406.173276868538\n",
            "ARIMA(1, 0, 1)x(1, 0, 0, 12)12 - AIC:5239.751142263285\n",
            "ARIMA(1, 0, 1)x(1, 0, 1, 12)12 - AIC:5210.662023402027\n",
            "ARIMA(1, 0, 1)x(1, 1, 0, 12)12 - AIC:5115.367430758675\n",
            "ARIMA(1, 0, 1)x(1, 1, 1, 12)12 - AIC:6457.809980150687\n",
            "ARIMA(1, 1, 0)x(0, 0, 0, 12)12 - AIC:5170.377381886962\n",
            "ARIMA(1, 1, 0)x(0, 0, 1, 12)12 - AIC:4954.492579484746\n",
            "ARIMA(1, 1, 0)x(0, 1, 0, 12)12 - AIC:5118.224315687535\n",
            "ARIMA(1, 1, 0)x(0, 1, 1, 12)12 - AIC:4864.499471620798\n",
            "ARIMA(1, 1, 0)x(1, 0, 0, 12)12 - AIC:4954.817758414292\n",
            "ARIMA(1, 1, 0)x(1, 0, 1, 12)12 - AIC:4956.130931217751\n",
            "ARIMA(1, 1, 0)x(1, 1, 0, 12)12 - AIC:4840.4028071193225\n",
            "ARIMA(1, 1, 0)x(1, 1, 1, 12)12 - AIC:4841.95989084748\n",
            "ARIMA(1, 1, 1)x(0, 0, 0, 12)12 - AIC:5122.214654800946\n",
            "ARIMA(1, 1, 1)x(0, 0, 1, 12)12 - AIC:4836.1887162537005\n",
            "ARIMA(1, 1, 1)x(0, 1, 0, 12)12 - AIC:5078.280554865662\n",
            "ARIMA(1, 1, 1)x(0, 1, 1, 12)12 - AIC:4757.222294531699\n",
            "ARIMA(1, 1, 1)x(1, 0, 0, 12)12 - AIC:4853.9691036051345\n",
            "ARIMA(1, 1, 1)x(1, 0, 1, 12)12 - AIC:4838.179689623848\n",
            "ARIMA(1, 1, 1)x(1, 1, 0, 12)12 - AIC:4779.048572983591\n",
            "ARIMA(1, 1, 1)x(1, 1, 1, 12)12 - AIC:4750.108029400025\n"
          ],
          "name": "stdout"
        }
      ]
    },
    {
      "metadata": {
        "id": "aZ6Eky-gkcIA",
        "colab_type": "code",
        "outputId": "85b17ede-18cd-4c8e-ea4d-aa063e967419",
        "colab": {
          "base_uri": "https://localhost:8080/",
          "height": 521
        }
      },
      "cell_type": "code",
      "source": [
        "mod = sm.tsa.statespace.SARIMAX(y,\n",
        "                                order=(1, 1, 1),\n",
        "                                seasonal_order=(1, 1, 1, 12),\n",
        "                                enforce_stationarity=False,\n",
        "                                enforce_invertibility=False)\n",
        "\n",
        "results = mod.fit()\n",
        "\n",
        "print(results.summary())"
      ],
      "execution_count": 0,
      "outputs": [
        {
          "output_type": "stream",
          "text": [
            "                                 Statespace Model Results                                 \n",
            "==========================================================================================\n",
            "Dep. Variable:                      San Francisco   No. Observations:                  273\n",
            "Model:             SARIMAX(1, 1, 1)x(1, 1, 1, 12)   Log Likelihood               -2370.054\n",
            "Date:                            Thu, 31 Jan 2019   AIC                           4750.108\n",
            "Time:                                    00:31:07   BIC                           4768.155\n",
            "Sample:                                04-01-1996   HQIC                          4757.353\n",
            "                                     - 12-01-2018                                         \n",
            "Covariance Type:                              opg                                         \n",
            "==============================================================================\n",
            "                 coef    std err          z      P>|z|      [0.025      0.975]\n",
            "------------------------------------------------------------------------------\n",
            "ar.L1          0.7938      0.036     21.804      0.000       0.722       0.865\n",
            "ma.L1          0.7432      0.035     21.409      0.000       0.675       0.811\n",
            "ar.S.L12       0.2797      0.075      3.720      0.000       0.132       0.427\n",
            "ma.S.L12      -0.3591      0.086     -4.177      0.000      -0.528      -0.191\n",
            "sigma2      1.461e+07   5.12e-10   2.86e+16      0.000    1.46e+07    1.46e+07\n",
            "===================================================================================\n",
            "Ljung-Box (Q):                      149.20   Jarque-Bera (JB):                87.00\n",
            "Prob(Q):                              0.00   Prob(JB):                         0.00\n",
            "Heteroskedasticity (H):              12.69   Skew:                            -0.49\n",
            "Prob(H) (two-sided):                  0.00   Kurtosis:                         5.74\n",
            "===================================================================================\n",
            "\n",
            "Warnings:\n",
            "[1] Covariance matrix calculated using the outer product of gradients (complex-step).\n",
            "[2] Covariance matrix is singular or near-singular, with condition number 6.66e+31. Standard errors may be unstable.\n"
          ],
          "name": "stdout"
        }
      ]
    },
    {
      "metadata": {
        "id": "wDbIAAI4kjW7",
        "colab_type": "code",
        "outputId": "a463d88d-b4b7-48db-c8fe-bde7ee836b3f",
        "colab": {
          "base_uri": "https://localhost:8080/",
          "height": 568
        }
      },
      "cell_type": "code",
      "source": [
        "results.plot_diagnostics(figsize=(16, 8))\n",
        "plt.show()"
      ],
      "execution_count": 0,
      "outputs": [
        {
          "output_type": "stream",
          "text": [
            "/usr/local/lib/python3.6/dist-packages/matplotlib/axes/_axes.py:6521: MatplotlibDeprecationWarning: \n",
            "The 'normed' kwarg was deprecated in Matplotlib 2.1 and will be removed in 3.1. Use 'density' instead.\n",
            "  alternative=\"'density'\", removal=\"3.1\")\n"
          ],
          "name": "stderr"
        },
        {
          "output_type": "display_data",
          "data": {
            "image/png": "[encoded data removed]",
            "text/plain": [
              "<Figure size 1152x576 with 4 Axes>"
            ]
          },
          "metadata": {
            "tags": []
          }
        }
      ]
    },
    {
      "metadata": {
        "id": "nGlpdWRWk8Bp",
        "colab_type": "code",
        "outputId": "0c25a9f3-c3df-4b24-c10e-42f773fe9138",
        "colab": {
          "base_uri": "https://localhost:8080/",
          "height": 454
        }
      },
      "cell_type": "code",
      "source": [
        "pred = results.get_prediction(start=pd.to_datetime('2017-12-01'), dynamic=False)\n",
        "#pred_ci = pred.conf_int()\n",
        "\n",
        "ax = y['2017':].plot(label='observed')\n",
        "pred.predicted_mean.plot(ax=ax, label='Forecast', alpha=.5, figsize=(14, 7))\n",
        "\n",
        "#ax.fill_between(pred_ci.index,\n",
        "#                pred_ci.iloc[:, 0],\n",
        "#                pred_ci.iloc[:, 1], color='k', alpha=.2)\n",
        "\n",
        "ax.set_xlabel('Date')\n",
        "ax.set_ylabel('Cost of House')\n",
        "plt.legend()\n",
        "\n",
        "plt.show()"
      ],
      "execution_count": 0,
      "outputs": [
        {
          "output_type": "display_data",
          "data": {
            "image/png": "[encoded data removed]",
            "text/plain": [
              "<Figure size 1008x504 with 1 Axes>"
            ]
          },
          "metadata": {
            "tags": []
          }
        }
      ]
    },
    {
      "metadata": {
        "id": "mO19YNCLLWRo",
        "colab_type": "code",
        "outputId": "03e1c8f1-4f82-40a2-f8ea-749c37dcdbe2",
        "colab": {
          "base_uri": "https://localhost:8080/",
          "height": 36
        }
      },
      "cell_type": "code",
      "source": [
        "((y_forecasted - y_truth)**2).mean()"
      ],
      "execution_count": 0,
      "outputs": [
        {
          "output_type": "execute_result",
          "data": {
            "text/plain": [
              "17728097.471408203"
            ]
          },
          "metadata": {
            "tags": []
          },
          "execution_count": 127
        }
      ]
    },
    {
      "metadata": {
        "id": "vIFXGTDElxg_",
        "colab_type": "code",
        "outputId": "2617b38a-a5e9-41a5-c7a3-b055b31b90c9",
        "colab": {
          "base_uri": "https://localhost:8080/",
          "height": 36
        }
      },
      "cell_type": "code",
      "source": [
        "y_forecasted = pred.predicted_mean\n",
        "y_truth = y['2017-01-01':]\n",
        "\n",
        "mse = ((y_forecasted - y_truth) ** 2).mean()\n",
        "#print('The Mean Squared Error of our forecasts is {}'.format(round(mse, 2))\n",
        "round(mse,2)"
      ],
      "execution_count": 0,
      "outputs": [
        {
          "output_type": "execute_result",
          "data": {
            "text/plain": [
              "17728097.47"
            ]
          },
          "metadata": {
            "tags": []
          },
          "execution_count": 123
        }
      ]
    },
    {
      "metadata": {
        "id": "KbtY_ZCHwdyT",
        "colab_type": "code",
        "outputId": "92b506e8-7aca-4e44-d112-57c8af9fdb69",
        "colab": {
          "base_uri": "https://localhost:8080/",
          "height": 727
        }
      },
      "cell_type": "code",
      "source": [
        "y_truth, y_forecasted"
      ],
      "execution_count": 0,
      "outputs": [
        {
          "output_type": "execute_result",
          "data": {
            "text/plain": [
              "(2017-01-01   1963147.368\n",
              " 2017-02-01   1975136.842\n",
              " 2017-03-01   1987394.737\n",
              " 2017-04-01   2002326.316\n",
              " 2017-05-01   2021931.579\n",
              " 2017-06-01   2042415.789\n",
              " 2017-07-01   2053400.000\n",
              " 2017-08-01   2056173.684\n",
              " 2017-09-01   2064600.000\n",
              " 2017-10-01   2079531.579\n",
              " 2017-11-01   2086742.105\n",
              " 2017-12-01   2088942.105\n",
              " 2018-01-01   2099726.316\n",
              " 2018-02-01   2111131.579\n",
              " 2018-03-01   2119200.000\n",
              " 2018-04-01   2135163.158\n",
              " 2018-05-01   2159247.368\n",
              " 2018-06-01   2182557.895\n",
              " 2018-07-01   2198584.211\n",
              " 2018-08-01   2204926.316\n",
              " 2018-09-01   2208315.789\n",
              " 2018-10-01   2214663.158\n",
              " 2018-11-01   2211621.053\n",
              " 2018-12-01   2209568.421\n",
              " Name: San Francisco, dtype: float64, 2017-12-01   2097416.699\n",
              " 2018-01-01   2090389.592\n",
              " 2018-02-01   2108121.694\n",
              " 2018-03-01   2121723.031\n",
              " 2018-04-01   2128095.355\n",
              " 2018-05-01   2153977.248\n",
              " 2018-06-01   2182893.169\n",
              " 2018-07-01   2197578.798\n",
              " 2018-08-01   2208716.995\n",
              " 2018-09-01   2217116.356\n",
              " 2018-10-01   2217591.865\n",
              " 2018-11-01   2216139.475\n",
              " 2018-12-01   2206458.856\n",
              " Freq: MS, dtype: float64)"
            ]
          },
          "metadata": {
            "tags": []
          },
          "execution_count": 93
        }
      ]
    },
    {
      "metadata": {
        "id": "x4Hz3gLACblW",
        "colab_type": "code",
        "colab": {}
      },
      "cell_type": "code",
      "source": [
        "abc_transpose.head(5)\n",
        "sf = abc_transpose.loc[: , \"San Francisco\"]\n",
        "sf\n"
      ],
      "execution_count": 0,
      "outputs": []
    },
    {
      "metadata": {
        "id": "EIhLN7vWISXM",
        "colab_type": "code",
        "colab": {}
      },
      "cell_type": "code",
      "source": [
        "abc_"
      ],
      "execution_count": 0,
      "outputs": []
    },
    {
      "metadata": {
        "id": "rYVMJSohQj80",
        "colab_type": "text"
      },
      "cell_type": "markdown",
      "source": [
        ""
      ]
    },
    {
      "metadata": {
        "id": "snTN2xUCIZqB",
        "colab_type": "code",
        "colab": {}
      },
      "cell_type": "code",
      "source": [
        "df.groupby('City').mean()"
      ],
      "execution_count": 0,
      "outputs": []
    },
    {
      "metadata": {
        "id": "Xfbc0xEgJJuj",
        "colab_type": "text"
      },
      "cell_type": "markdown",
      "source": [
        "\n",
        "\n",
        "*   Create a time series forecast\n",
        "*   Find a second model using traditional machine learning (can also find 3rd party data)\n",
        "\n"
      ]
    },
    {
      "metadata": {
        "id": "lGOmYdiZZYve",
        "colab_type": "code",
        "colab": {}
      },
      "cell_type": "code",
      "source": [
        "#simple time series forecast\n",
        "df_transposed = df.transpose()\n",
        "df_transposed.head(10)"
      ],
      "execution_count": 0,
      "outputs": []
    },
    {
      "metadata": {
        "id": "1kkjOb1nQQNN",
        "colab_type": "code",
        "colab": {}
      },
      "cell_type": "code",
      "source": [
        "abc.head()"
      ],
      "execution_count": 0,
      "outputs": []
    },
    {
      "metadata": {
        "id": "iFRpY1J5Zgr2",
        "colab_type": "code",
        "outputId": "d1651ddb-ce40-4ba5-f1e9-d999c0c0dd4b",
        "colab": {
          "base_uri": "https://localhost:8080/",
          "height": 273
        }
      },
      "cell_type": "code",
      "source": [
        "abc_transpose.head()"
      ],
      "execution_count": 0,
      "outputs": [
        {
          "output_type": "execute_result",
          "data": {
            "text/html": [
              "<div>\n",
              "<style scoped>\n",
              "    .dataframe tbody tr th:only-of-type {\n",
              "        vertical-align: middle;\n",
              "    }\n",
              "\n",
              "    .dataframe tbody tr th {\n",
              "        vertical-align: top;\n",
              "    }\n",
              "\n",
              "    .dataframe thead th {\n",
              "        text-align: right;\n",
              "    }\n",
              "</style>\n",
              "<table border=\"1\" class=\"dataframe\">\n",
              "  <thead>\n",
              "    <tr style=\"text-align: right;\">\n",
              "      <th>City</th>\n",
              "      <th>Abbeville</th>\n",
              "      <th>Aberdeen</th>\n",
              "      <th>Abilene</th>\n",
              "      <th>Abingdon</th>\n",
              "      <th>Abington</th>\n",
              "      <th>Abita Springs</th>\n",
              "      <th>Abrams</th>\n",
              "      <th>Absecon</th>\n",
              "      <th>Acampo</th>\n",
              "      <th>Accokeek</th>\n",
              "      <th>...</th>\n",
              "      <th>Zelienople</th>\n",
              "      <th>Zephyrhills</th>\n",
              "      <th>Zillah</th>\n",
              "      <th>Zimmerman</th>\n",
              "      <th>Zion</th>\n",
              "      <th>Zionsville</th>\n",
              "      <th>Zionville</th>\n",
              "      <th>Zumbro Falls</th>\n",
              "      <th>Zumbrota</th>\n",
              "      <th>Zuni</th>\n",
              "    </tr>\n",
              "  </thead>\n",
              "  <tbody>\n",
              "    <tr>\n",
              "      <th>1996-04-01</th>\n",
              "      <td>47900.000</td>\n",
              "      <td>85575.000</td>\n",
              "      <td>63440.000</td>\n",
              "      <td>73575.000</td>\n",
              "      <td>144780.000</td>\n",
              "      <td>72000.000</td>\n",
              "      <td>109000.000</td>\n",
              "      <td>105500.000</td>\n",
              "      <td>182000.000</td>\n",
              "      <td>206800.000</td>\n",
              "      <td>...</td>\n",
              "      <td>79800.000</td>\n",
              "      <td>68133.333</td>\n",
              "      <td>98300.000</td>\n",
              "      <td>89600.000</td>\n",
              "      <td>108700.000</td>\n",
              "      <td>252600.000</td>\n",
              "      <td>68600.000</td>\n",
              "      <td>103500.000</td>\n",
              "      <td>88500.000</td>\n",
              "      <td>80200.000</td>\n",
              "    </tr>\n",
              "    <tr>\n",
              "      <th>1996-05-01</th>\n",
              "      <td>47900.000</td>\n",
              "      <td>85675.000</td>\n",
              "      <td>63400.000</td>\n",
              "      <td>73725.000</td>\n",
              "      <td>144640.000</td>\n",
              "      <td>72300.000</td>\n",
              "      <td>109200.000</td>\n",
              "      <td>105700.000</td>\n",
              "      <td>181400.000</td>\n",
              "      <td>206400.000</td>\n",
              "      <td>...</td>\n",
              "      <td>80300.000</td>\n",
              "      <td>68266.667</td>\n",
              "      <td>98800.000</td>\n",
              "      <td>87800.000</td>\n",
              "      <td>109200.000</td>\n",
              "      <td>255300.000</td>\n",
              "      <td>68700.000</td>\n",
              "      <td>103900.000</td>\n",
              "      <td>88300.000</td>\n",
              "      <td>80500.000</td>\n",
              "    </tr>\n",
              "    <tr>\n",
              "      <th>1996-06-01</th>\n",
              "      <td>48000.000</td>\n",
              "      <td>85800.000</td>\n",
              "      <td>63360.000</td>\n",
              "      <td>73850.000</td>\n",
              "      <td>144460.000</td>\n",
              "      <td>72600.000</td>\n",
              "      <td>109500.000</td>\n",
              "      <td>105800.000</td>\n",
              "      <td>180600.000</td>\n",
              "      <td>205700.000</td>\n",
              "      <td>...</td>\n",
              "      <td>80800.000</td>\n",
              "      <td>68400.000</td>\n",
              "      <td>99200.000</td>\n",
              "      <td>86200.000</td>\n",
              "      <td>109400.000</td>\n",
              "      <td>258600.000</td>\n",
              "      <td>68800.000</td>\n",
              "      <td>104200.000</td>\n",
              "      <td>88000.000</td>\n",
              "      <td>80800.000</td>\n",
              "    </tr>\n",
              "    <tr>\n",
              "      <th>1996-07-01</th>\n",
              "      <td>48100.000</td>\n",
              "      <td>85900.000</td>\n",
              "      <td>63340.000</td>\n",
              "      <td>74000.000</td>\n",
              "      <td>144260.000</td>\n",
              "      <td>72900.000</td>\n",
              "      <td>109600.000</td>\n",
              "      <td>106000.000</td>\n",
              "      <td>179800.000</td>\n",
              "      <td>204600.000</td>\n",
              "      <td>...</td>\n",
              "      <td>81300.000</td>\n",
              "      <td>68500.000</td>\n",
              "      <td>99500.000</td>\n",
              "      <td>84700.000</td>\n",
              "      <td>109300.000</td>\n",
              "      <td>262400.000</td>\n",
              "      <td>68900.000</td>\n",
              "      <td>104400.000</td>\n",
              "      <td>87700.000</td>\n",
              "      <td>81100.000</td>\n",
              "    </tr>\n",
              "    <tr>\n",
              "      <th>1996-08-01</th>\n",
              "      <td>48200.000</td>\n",
              "      <td>86050.000</td>\n",
              "      <td>63380.000</td>\n",
              "      <td>74175.000</td>\n",
              "      <td>144120.000</td>\n",
              "      <td>73200.000</td>\n",
              "      <td>109700.000</td>\n",
              "      <td>106200.000</td>\n",
              "      <td>179000.000</td>\n",
              "      <td>203500.000</td>\n",
              "      <td>...</td>\n",
              "      <td>81800.000</td>\n",
              "      <td>68600.000</td>\n",
              "      <td>99800.000</td>\n",
              "      <td>83500.000</td>\n",
              "      <td>109100.000</td>\n",
              "      <td>266400.000</td>\n",
              "      <td>69000.000</td>\n",
              "      <td>104600.000</td>\n",
              "      <td>87400.000</td>\n",
              "      <td>81400.000</td>\n",
              "    </tr>\n",
              "  </tbody>\n",
              "</table>\n",
              "<p>5 rows × 6783 columns</p>\n",
              "</div>"
            ],
            "text/plain": [
              "City        Abbeville  Aberdeen   Abilene  Abingdon   Abington  Abita Springs  \\\n",
              "1996-04-01  47900.000 85575.000 63440.000 73575.000 144780.000      72000.000   \n",
              "1996-05-01  47900.000 85675.000 63400.000 73725.000 144640.000      72300.000   \n",
              "1996-06-01  48000.000 85800.000 63360.000 73850.000 144460.000      72600.000   \n",
              "1996-07-01  48100.000 85900.000 63340.000 74000.000 144260.000      72900.000   \n",
              "1996-08-01  48200.000 86050.000 63380.000 74175.000 144120.000      73200.000   \n",
              "\n",
              "City           Abrams    Absecon     Acampo   Accokeek    ...     Zelienople  \\\n",
              "1996-04-01 109000.000 105500.000 182000.000 206800.000    ...      79800.000   \n",
              "1996-05-01 109200.000 105700.000 181400.000 206400.000    ...      80300.000   \n",
              "1996-06-01 109500.000 105800.000 180600.000 205700.000    ...      80800.000   \n",
              "1996-07-01 109600.000 106000.000 179800.000 204600.000    ...      81300.000   \n",
              "1996-08-01 109700.000 106200.000 179000.000 203500.000    ...      81800.000   \n",
              "\n",
              "City        Zephyrhills    Zillah  Zimmerman       Zion  Zionsville  \\\n",
              "1996-04-01    68133.333 98300.000  89600.000 108700.000  252600.000   \n",
              "1996-05-01    68266.667 98800.000  87800.000 109200.000  255300.000   \n",
              "1996-06-01    68400.000 99200.000  86200.000 109400.000  258600.000   \n",
              "1996-07-01    68500.000 99500.000  84700.000 109300.000  262400.000   \n",
              "1996-08-01    68600.000 99800.000  83500.000 109100.000  266400.000   \n",
              "\n",
              "City        Zionville  Zumbro Falls  Zumbrota      Zuni  \n",
              "1996-04-01  68600.000    103500.000 88500.000 80200.000  \n",
              "1996-05-01  68700.000    103900.000 88300.000 80500.000  \n",
              "1996-06-01  68800.000    104200.000 88000.000 80800.000  \n",
              "1996-07-01  68900.000    104400.000 87700.000 81100.000  \n",
              "1996-08-01  69000.000    104600.000 87400.000 81400.000  \n",
              "\n",
              "[5 rows x 6783 columns]"
            ]
          },
          "metadata": {
            "tags": []
          },
          "execution_count": 29
        }
      ]
    },
    {
      "metadata": {
        "id": "yj6eX1hXM2Bn",
        "colab_type": "code",
        "outputId": "fdc70d42-d4da-4a51-e585-949a1d4d1aec",
        "colab": {
          "base_uri": "https://localhost:8080/",
          "height": 344
        }
      },
      "cell_type": "code",
      "source": [
        "target = [\"San Francisco\"]\n",
        "features = [\"Abbeville\",\"Seattle\", \"Dallas\"]\n",
        "y = abc_transpose[target]\n",
        "x = abc_transpose[features]\n",
        "\n",
        "from sklearn.model_selection import train_test_split\n",
        "X_train, X_test, y_train, y_test = train_test_split(x,y, test_size=0.33, random_state=42)\n",
        "model = sm.OLS(y ,x)\n",
        "results = model.fit() \n",
        "results.summary()\n",
        "\n",
        "results.summary2()"
      ],
      "execution_count": 0,
      "outputs": [
        {
          "output_type": "execute_result",
          "data": {
            "text/html": [
              "<table class=\"simpletable\">\n",
              "<tr>\n",
              "        <td>Model:</td>               <td>OLS</td>         <td>Adj. R-squared:</td>      <td>0.994</td>  \n",
              "</tr>\n",
              "<tr>\n",
              "  <td>Dependent Variable:</td>   <td>San Francisco</td>         <td>AIC:</td>          <td>7067.4676</td>\n",
              "</tr>\n",
              "<tr>\n",
              "         <td>Date:</td>        <td>2019-01-31 00:31</td>        <td>BIC:</td>          <td>7078.2960</td>\n",
              "</tr>\n",
              "<tr>\n",
              "   <td>No. Observations:</td>         <td>273</td>         <td>Log-Likelihood:</td>     <td>-3530.7</td> \n",
              "</tr>\n",
              "<tr>\n",
              "       <td>Df Model:</td>              <td>3</td>           <td>F-statistic:</td>      <td>1.462e+04</td>\n",
              "</tr>\n",
              "<tr>\n",
              "     <td>Df Residuals:</td>           <td>270</td>       <td>Prob (F-statistic):</td>  <td>1.98e-298</td>\n",
              "</tr>\n",
              "<tr>\n",
              "      <td>R-squared:</td>            <td>0.994</td>            <td>Scale:</td>        <td>1.0136e+10</td>\n",
              "</tr>\n",
              "</table>\n",
              "<table class=\"simpletable\">\n",
              "<tr>\n",
              "      <td></td>       <th>Coef.</th>  <th>Std.Err.</th>    <th>t</th>     <th>P>|t|</th> <th>[0.025</th>  <th>0.975]</th> \n",
              "</tr>\n",
              "<tr>\n",
              "  <th>Abbeville</th> <td>4.4739</td>   <td>0.8532</td>  <td>5.2437</td>  <td>0.0000</td> <td>2.7941</td>  <td>6.1536</td> \n",
              "</tr>\n",
              "<tr>\n",
              "  <th>Seattle</th>   <td>3.2996</td>   <td>0.1069</td>  <td>30.8693</td> <td>0.0000</td> <td>3.0892</td>  <td>3.5101</td> \n",
              "</tr>\n",
              "<tr>\n",
              "  <th>Dallas</th>    <td>-2.5756</td>  <td>0.4156</td>  <td>-6.1970</td> <td>0.0000</td> <td>-3.3939</td> <td>-1.7574</td>\n",
              "</tr>\n",
              "</table>\n",
              "<table class=\"simpletable\">\n",
              "<tr>\n",
              "     <td>Omnibus:</td>    <td>31.742</td>  <td>Durbin-Watson:</td>    <td>0.009</td>\n",
              "</tr>\n",
              "<tr>\n",
              "  <td>Prob(Omnibus):</td>  <td>0.000</td> <td>Jarque-Bera (JB):</td> <td>41.593</td>\n",
              "</tr>\n",
              "<tr>\n",
              "       <td>Skew:</td>      <td>0.799</td>     <td>Prob(JB):</td>      <td>0.000</td>\n",
              "</tr>\n",
              "<tr>\n",
              "     <td>Kurtosis:</td>    <td>4.051</td>  <td>Condition No.:</td>     <td>84</td>  \n",
              "</tr>\n",
              "</table>"
            ],
            "text/plain": [
              "<class 'statsmodels.iolib.summary2.Summary'>\n",
              "\"\"\"\n",
              "                  Results: Ordinary least squares\n",
              "===================================================================\n",
              "Model:              OLS              Adj. R-squared:     0.994     \n",
              "Dependent Variable: San Francisco    AIC:                7067.4676 \n",
              "Date:               2019-01-31 00:31 BIC:                7078.2960 \n",
              "No. Observations:   273              Log-Likelihood:     -3530.7   \n",
              "Df Model:           3                F-statistic:        1.462e+04 \n",
              "Df Residuals:       270              Prob (F-statistic): 1.98e-298 \n",
              "R-squared:          0.994            Scale:              1.0136e+10\n",
              "---------------------------------------------------------------------\n",
              "             Coef.    Std.Err.      t      P>|t|     [0.025    0.975]\n",
              "---------------------------------------------------------------------\n",
              "Abbeville    4.4739     0.8532    5.2437   0.0000    2.7941    6.1536\n",
              "Seattle      3.2996     0.1069   30.8693   0.0000    3.0892    3.5101\n",
              "Dallas      -2.5756     0.4156   -6.1970   0.0000   -3.3939   -1.7574\n",
              "-------------------------------------------------------------------\n",
              "Omnibus:              31.742        Durbin-Watson:           0.009 \n",
              "Prob(Omnibus):        0.000         Jarque-Bera (JB):        41.593\n",
              "Skew:                 0.799         Prob(JB):                0.000 \n",
              "Kurtosis:             4.051         Condition No.:           84    \n",
              "===================================================================\n",
              "\n",
              "\"\"\""
            ]
          },
          "metadata": {
            "tags": []
          },
          "execution_count": 30
        }
      ]
    },
    {
      "metadata": {
        "id": "TYH3py46SstF",
        "colab_type": "code",
        "colab": {}
      },
      "cell_type": "code",
      "source": [
        "import sklearn.linear_model\n",
        "from sklearn import linear_model"
      ],
      "execution_count": 0,
      "outputs": []
    },
    {
      "metadata": {
        "id": "j89LKRkISAgX",
        "colab_type": "code",
        "outputId": "76798dab-97f2-4e97-c93b-7ba09d99bab6",
        "colab": {
          "base_uri": "https://localhost:8080/",
          "height": 36
        }
      },
      "cell_type": "code",
      "source": [
        "from sklearn.linear_model import LinearRegression \n",
        "\n",
        "lm = linear_model.LinearRegression()\n",
        "model = lm.fit(y_train, X_train)\n",
        "yy = model.predict(y_test)\n",
        "model.score(y_test,X_test)"
      ],
      "execution_count": 0,
      "outputs": [
        {
          "output_type": "execute_result",
          "data": {
            "text/plain": [
              "0.9410982827075666"
            ]
          },
          "metadata": {
            "tags": []
          },
          "execution_count": 39
        }
      ]
    },
    {
      "metadata": {
        "id": "txHLFdamNN86",
        "colab_type": "code",
        "outputId": "330b93ad-80d1-4e49-a50d-ce4008fde98d",
        "colab": {
          "base_uri": "https://localhost:8080/",
          "height": 36
        }
      },
      "cell_type": "code",
      "source": [
        "#y_test.reset_index(drop=True, inplace=True)\n",
        "#yy.reset_index(drop=True, inplace=True)\n",
        "\n",
        "\n",
        "yy.max()"
      ],
      "execution_count": 0,
      "outputs": [
        {
          "output_type": "execute_result",
          "data": {
            "text/plain": [
              "814068.7471888885"
            ]
          },
          "metadata": {
            "tags": []
          },
          "execution_count": 46
        }
      ]
    },
    {
      "metadata": {
        "id": "xn1NhLK_SpKI",
        "colab_type": "text"
      },
      "cell_type": "markdown",
      "source": [
        "##Conclusion: \n",
        "\n"
      ]
    },
    {
      "metadata": {
        "id": "fVY0_0vkTHVF",
        "colab_type": "text"
      },
      "cell_type": "markdown",
      "source": [
        "Both the models provided pretty accurate results. \n",
        "\n",
        "* The preference of one over the other id determined by the type of data available and the usecasse.\n",
        "\n",
        "* If growth in San Francisco is to be examined then ARIMA is prefered \n",
        "\n",
        "* If the growth of other cities has to be compared to  San Francisco then regression is preferred. \n",
        "\n",
        "\n",
        "\n"
      ]
    }
  ]
}